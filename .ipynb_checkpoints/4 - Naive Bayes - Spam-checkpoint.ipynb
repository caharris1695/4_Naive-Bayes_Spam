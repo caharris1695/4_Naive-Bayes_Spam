{
 "cells": [
  {
   "cell_type": "markdown",
   "metadata": {},
   "source": [
    "Spam/Ham Naive Bayes Classifier\n",
    "\n",
    "Data:https://archive.ics.uci.edu/ml/machine-learning-databases/00228/"
   ]
  },
  {
   "cell_type": "code",
   "execution_count": 1,
   "metadata": {},
   "outputs": [],
   "source": [
    "# Standard Machine Learning Imports\n",
    "import pandas as pd \n",
    "# Display up to 60 columns of a dataframe\n",
    "pd.set_option('display.max_columns', 60)\n",
    "\n",
    "import numpy as np \n",
    "import matplotlib.pyplot as plt \n",
    "import seaborn as sns\n",
    "\n",
    "# Text Precrocessing standard imports\n",
    "from nltk.corpus import stopwords\n",
    "import nltk\n",
    "from nltk import WordNetLemmatizer\n",
    "import re\n",
    "import string"
   ]
  },
  {
   "cell_type": "code",
   "execution_count": 2,
   "metadata": {},
   "outputs": [],
   "source": [
    "# Function for preprocessing text\n",
    "def preprocess_text(txt):\n",
    "    '''Lower the text'''\n",
    "    txt = txt.lower()\n",
    "    '''Remove the stopwords from a string of text'''\n",
    "    words = txt.split()\n",
    "    table = str.maketrans('', '', string.punctuation)\n",
    "    stripped = [w.translate(table) for w in words]\n",
    "    '''Remove the stopwords from a list of words'''\n",
    "    stop_words = set(stopwords.words('english'))\n",
    "    stripped = [word for word in stripped if word not in stop_words]\n",
    "    return ' '.join(stripped)"
   ]
  },
  {
   "cell_type": "code",
   "execution_count": 3,
   "metadata": {},
   "outputs": [
    {
     "name": "stdout",
     "output_type": "stream",
     "text": [
      "  targets                                               text\n",
      "0     ham  Go until jurong point, crazy.. Available only ...\n",
      "1     ham                      Ok lar... Joking wif u oni...\n",
      "2    spam  Free entry in 2 a wkly comp to win FA Cup fina...\n",
      "3     ham  U dun say so early hor... U c already then say...\n",
      "4     ham  Nah I don't think he goes to usf, he lives aro...\n",
      "5    spam  FreeMsg Hey there darling it's been 3 week's n...\n",
      "6     ham  Even my brother is not like to speak with me. ...\n",
      "7     ham  As per your request 'Melle Melle (Oru Minnamin...\n",
      "8    spam  WINNER!! As a valued network customer you have...\n",
      "9    spam  Had your mobile 11 months or more? U R entitle...\n"
     ]
    }
   ],
   "source": [
    "# Import the data\n",
    "path = \"SMS Spam Collection\"\n",
    "\n",
    "# Build the dataframe from a dictionary and two lists\n",
    "data = {'targets':[], 'text':[]}\n",
    "\n",
    "with open(path) as file:\n",
    "    # Loop through each line in the text ... seperate the values right away\n",
    "    rows = file.readlines()\n",
    "    for row in rows:\n",
    "        row = row.split('\\t')\n",
    "        data['targets'].append(row[0])\n",
    "        data['text'].append(row[1][:-1])\n",
    "\n",
    "sms_df = pd.DataFrame(data)\n",
    "\n",
    "# Print the head of the DataFrame\n",
    "print(sms_df.head(10))"
   ]
  },
  {
   "cell_type": "code",
   "execution_count": 4,
   "metadata": {},
   "outputs": [
    {
     "data": {
      "image/png": "[encoded data removed]",
      "text/plain": [
       "<Figure size 432x288 with 1 Axes>"
      ]
     },
     "metadata": {
      "needs_background": "light"
     },
     "output_type": "display_data"
    }
   ],
   "source": [
    "# Look at the class balance\n",
    "sms_df['targets'].hist()\n",
    "plt.title(\"Class Count\")\n",
    "plt.xticks(rotation=45)\n",
    "plt.ylabel('Count')\n",
    "plt.xlabel('Class')\n",
    "plt.show()"
   ]
  },
  {
   "cell_type": "code",
   "execution_count": 5,
   "metadata": {},
   "outputs": [
    {
     "name": "stdout",
     "output_type": "stream",
     "text": [
      "Value Counts of Targets:\n",
      " ham     4827\n",
      "spam     747\n",
      "Name: targets, dtype: int64\n"
     ]
    }
   ],
   "source": [
    "# Classes are pretty imbalanced ... Here are the numbers\n",
    "print(\"Value Counts of Targets:\\n\", sms_df['targets'].value_counts())\n",
    "\n",
    "# 13% of the data is spam "
   ]
  },
  {
   "cell_type": "code",
   "execution_count": 6,
   "metadata": {},
   "outputs": [],
   "source": [
    "# Process the text\n",
    "sms_df['text_processed'] = sms_df['text'].apply(lambda x: preprocess_text(x))"
   ]
  },
  {
   "cell_type": "code",
   "execution_count": 89,
   "metadata": {},
   "outputs": [],
   "source": [
    "# Split the data into target/features\n",
    "\n",
    "# Shape of the data\n",
    "N,D = sms_df.shape\n",
    "\n",
    "targets = sms_df['targets'].values.reshape(N,1)\n",
    "\n",
    "# y is the target vector\n",
    "# One hot Encode the targets \n",
    "from sklearn.preprocessing import OneHotEncoder\n",
    "ohe = OneHotEncoder()\n",
    "y = ohe.fit_transform(targets).toarray()[:, 0]\n"
   ]
  },
  {
   "cell_type": "code",
   "execution_count": 133,
   "metadata": {},
   "outputs": [],
   "source": [
    "# Look at tf-df vs Count Vectorizer seperately\n",
    "\n",
    "from sklearn.feature_extraction.text import TfidfVectorizer, CountVectorizer\n",
    "\n",
    "features = sms_df['text_processed']\n",
    "\n",
    "tf_idf_vectors = TfidfVectorizer().fit_transform(features)\n",
    "vect = CountVectorizer() \n",
    "count_vectors = vect.fit_transform(features)"
   ]
  },
  {
   "cell_type": "code",
   "execution_count": 134,
   "metadata": {},
   "outputs": [
    {
     "data": {
      "image/png": "[encoded data removed]",
      "text/plain": [
       "<Figure size 432x288 with 1 Axes>"
      ]
     },
     "metadata": {
      "needs_background": "light"
     },
     "output_type": "display_data"
    }
   ],
   "source": [
    "# Examine the top unigrams using count venctorizer\n",
    "\n",
    "num_words = 25\n",
    "\n",
    "word_count_vector = count_vectors.sum(axis=0)\n",
    "word_count_tuples = [(word,word_count_vector[0,word_feature_idx]) for word,word_feature_idx in vect.vocabulary_.items()]\n",
    "\n",
    "popular_words = sorted(word_count_tuples,key=lambda x: x[1], reverse=True)[:num_words]\n",
    "\n",
    "words = [i[0] for i in popular_words]\n",
    "counts = [i[1] for i in popular_words]\n",
    "\n",
    "plt.bar(words,counts)\n",
    "plt.title(\"Most Popular Words\")\n",
    "plt.xticks(rotation=90)\n",
    "plt.ylabel('Count')\n",
    "plt.xlabel('Word')\n",
    "plt.show()"
   ]
  },
  {
   "cell_type": "code",
   "execution_count": 153,
   "metadata": {},
   "outputs": [
    {
     "data": {
      "image/png": "[encoded data removed]",
      "text/plain": [
       "<Figure size 432x288 with 1 Axes>"
      ]
     },
     "metadata": {
      "needs_background": "light"
     },
     "output_type": "display_data"
    }
   ],
   "source": [
    "# Examine the distribution of word counts\n",
    "num_words = 25\n",
    "\n",
    "word_count_vector = count_vectors.sum(axis=0)\n",
    "word_count_tuples = [(s,c) for s, c in zip(*np.unique(np.asarray(word_count_vector), return_counts=True))]\n",
    "sums = [i[0] for i in word_count_tuples]\n",
    "count_of_sum = [i[1] for i in word_count_tuples]\n",
    "\n",
    "plt.axis([0, 100, -5, 700])\n",
    "\n",
    "plt.bar(counts,number_of_counts)\n",
    "plt.title(\"Distribution of Words\")\n",
    "plt.xticks(rotation=90)\n",
    "plt.ylabel('Number of types word some came up')\n",
    "plt.xlabel('sum')\n",
    "plt.show()"
   ]
  },
  {
   "cell_type": "code",
   "execution_count": 92,
   "metadata": {},
   "outputs": [
    {
     "name": "stdout",
     "output_type": "stream",
     "text": [
      "TF-IDF Score: 0.9576086956521739\n"
     ]
    }
   ],
   "source": [
    "# Take a look at the TF-IDF Vectors\n",
    "from sklearn.model_selection import train_test_split\n",
    "X_train, X_test, y_train, y_test = train_test_split(tf_idf_vectors, y, test_size=0.33)\n",
    "\n",
    "# Take a look at Naive Bayes through both types of vectors\n",
    "\n",
    "from sklearn.naive_bayes import MultinomialNB\n",
    "\n",
    "tf_idf_classifier = MultinomialNB()\n",
    "tf_idf_classifier.fit(X_train, y_train)\n",
    "tf_score = tf_idf_classifier.score(X_test, y_test)\n",
    "print(f\"TF-IDF Score: {tf_score}\")\n"
   ]
  },
  {
   "cell_type": "code",
   "execution_count": 93,
   "metadata": {},
   "outputs": [
    {
     "name": "stdout",
     "output_type": "stream",
     "text": [
      "Count Vector Score: 0.9728260869565217\n"
     ]
    }
   ],
   "source": [
    "# Take a look at the Count Vectors \n",
    "X_train, X_test, y_train, y_test = train_test_split(count_vectors, y, test_size=0.33)\n",
    "\n",
    "from sklearn.naive_bayes import MultinomialNB\n",
    "\n",
    "count_classifier = MultinomialNB()\n",
    "count_classifier.fit(X_train, y_train)\n",
    "count_vect_score = count_classifier.score(X_test, y_test)\n",
    "print(f\"Count Vector Score: {count_vect_score}\")"
   ]
  },
  {
   "cell_type": "code",
   "execution_count": 120,
   "metadata": {},
   "outputs": [],
   "source": [
    "from scipy.sparse import csr_matrix,csc_matrix,coo_matrix,lil_matrix\n",
    "\n",
    "\n",
    "# Multinomial Naive Bayes from Scratch made in 3 - Naive Bayes - Movie Reviews\n",
    "class MultinomialBayesianClassifier():\n",
    "    \n",
    "    def __init__(self, alpha=1):\n",
    "        self.alpha = alpha\n",
    "\n",
    "    def get_total_words_by_class(self):\n",
    "        # Concatonate the Features and Targets to split the array by classes\n",
    "        sum_1 = self.X.sum(axis=1)\n",
    "        tar = np.reshape(self.y, (self.N, 1))\n",
    "        self.count_words_by_class = {cls:0 for cls,_ in self.priors.items()}\n",
    "        for t,s in zip(tar, sum_1):\n",
    "            self.count_words_by_class[t[0]] += s[0,0]\n",
    "        return self.count_words_by_class\n",
    "    \n",
    "    def get_feature_counts(self):\n",
    "        \n",
    "        # get the likelihood of the words by class (counts of each word given class)\n",
    "        likelihood_counts = lil_matrix((len(self.priors.keys()),self.D))\n",
    "        \n",
    "        for cls in self.classes:\n",
    "            likelihood_counts[cls,:] = self.X[self.y==cls].sum(axis=0)\n",
    "        \n",
    "        return csr_matrix(likelihood_counts)\n",
    "    \n",
    "    \n",
    "    def get_prior_counts(self):\n",
    "        # Calculat the count of each class\n",
    "        prior_counts = {}\n",
    "        target_values, counts = np.unique(self.y,return_counts=True)\n",
    "        for val,count in zip(target_values, counts):\n",
    "            prior_counts[val] = count\n",
    "        return prior_counts\n",
    "    \n",
    "    def get_prior_proba(self):\n",
    "        # Calculate the Prior Probability of each class\n",
    "        priors = {t:v/self.N for t,v in self.prior_counts.items()}\n",
    "        return priors\n",
    "    \n",
    "    def get_feature_log_proba(self):\n",
    "        \n",
    "        # Log proba is a class by vocab matrix\n",
    "        log_proba = lil_matrix((len(self.classes), self.vocab_size))\n",
    "        \n",
    "        for cls in self.classes:\n",
    "            # Add one probability\n",
    "            # (Xi + 1)/(N + V)\n",
    "            # Xi is a feature vector\n",
    "            t = ((self.feature_counts_[cls,:].toarray() + 1)/(self.total_words_by_class[cls]+self.vocab_size))\n",
    "            log_proba[cls,:] = np.log(t)\n",
    "            \n",
    "        return log_proba.toarray()\n",
    "    \n",
    "    def predict(self,X_t):\n",
    "        \n",
    "        # Make predictions from the feature probabilities\n",
    "        predictions = X_t.dot(self.feature_log_proba.T)\n",
    "        priors = np.array([np.log(self.priors[cls]) for cls in self.priors.keys()])\n",
    "        predictions = np.argmax(predictions+priors,axis=1)\n",
    "        \n",
    "        return predictions\n",
    "           \n",
    "    \n",
    "    def fit(self,X,y):\n",
    "        \n",
    "        # Input should be a matrix of count frequencies and targets\n",
    "        # X should be a count vectorizer instance \n",
    "        # y is a 1-D array \n",
    "        \n",
    "        self.X = X\n",
    "        self.y = y\n",
    "        \n",
    "        # Dimensions of the Dataset\n",
    "        self.N, self.D = X.shape\n",
    "    \n",
    "        \n",
    "        # Count of each Class\n",
    "        self.prior_counts = self.get_prior_counts()\n",
    "        \n",
    "        # Prior Probabilibies\n",
    "        self.priors = self.get_prior_proba()\n",
    "        \n",
    "        # Get the targets a list\n",
    "        self.classes = list(self.priors.keys())\n",
    "        \n",
    "        # Get the total number of words in each class for the naive bayes formula\n",
    "        self.total_words_by_class = self.get_total_words_by_class()\n",
    "        \n",
    "        # Feature counts of the dataset\n",
    "        self.feature_counts_ = self.get_feature_counts()\n",
    "        \n",
    "        # Vocab Size for Smoothing\n",
    "        self.vocab_size = self.D\n",
    "        \n",
    "        # Log Probability for features Nclass x D\n",
    "        self.feature_log_proba = self.get_feature_log_proba()\n",
    "        \n"
   ]
  },
  {
   "cell_type": "code",
   "execution_count": 127,
   "metadata": {},
   "outputs": [
    {
     "name": "stdout",
     "output_type": "stream",
     "text": [
      "Count  Vector Score: 0.9766304347826087\n"
     ]
    }
   ],
   "source": [
    "# Split the Data into train and test sets\n",
    "X_train, X_test, y_train, y_test = train_test_split(count_vectors, y, test_size=0.33)\n",
    "\n",
    "# Multinomial Naive Bayes made from scratch - Vector Counts\n",
    "custom_classifier = MultinomialBayesianClassifier()\n",
    "custom_classifier.fit(X_train, y_train)\n",
    "\n",
    "preds = custom_classifier.predict(X_test)\n",
    "\n",
    "# Accuracy Score\n",
    "custom_classifier_score=0\n",
    "N ,_ = X_test.shape\n",
    "for i,j in zip(preds,y_test):\n",
    "    if i==j:\n",
    "        custom_classifier_score+=1\n",
    "print(f\"Count  Vector Score: {custom_classifier_score/N}\")"
   ]
  },
  {
   "cell_type": "code",
   "execution_count": 128,
   "metadata": {},
   "outputs": [
    {
     "name": "stdout",
     "output_type": "stream",
     "text": [
      "Count  Vector Score: 0.9603260869565218\n"
     ]
    }
   ],
   "source": [
    "# Split the Data into train and test sets\n",
    "X_train, X_test, y_train, y_test = train_test_split(tf_idf_vectors, y, test_size=0.33)\n",
    "\n",
    "# Multinomial Naive Bayes made from scratch - TF_IDF Vectors\n",
    "custom_classifier = MultinomialBayesianClassifier()\n",
    "custom_classifier.fit(X_train, y_train)\n",
    "preds = custom_classifier.predict(X_test)\n",
    "\n",
    "# Accuracy Score\n",
    "custom_classifier_score=0\n",
    "N ,_ = X_test.shape\n",
    "for i,j in zip(preds,y_test):\n",
    "    if i==j:\n",
    "        custom_classifier_score+=1\n",
    "print(f\"Count  Vector Score: {custom_classifier_score/N}\")"
   ]
  },
  {
   "cell_type": "code",
   "execution_count": 116,
   "metadata": {},
   "outputs": [],
   "source": [
    "# TF-IDF from scratch\n",
    "\n",
    "class Tf_Idf_Vectorizer():\n",
    "    \n",
    "    def __init__(self):\n",
    "        pass\n",
    "\n",
    "    def fit_transform(self, docs):\n",
    "        # Docs input is the sequence of documents\n",
    "        # Each doc in Docs should be a string\n",
    "        \n",
    "        # Make the docs into an attribute\n",
    "        self.docs = docs\n",
    "        \n",
    "        self.vocab, self.vocab_length = self.get_vocab()\n",
    "        \n",
    "        self.doc_count = len(docs)\n",
    "        \n",
    "        self.word_column_map = self.get_word_column_map()\n",
    "        \n",
    "        self.return_matrix = self.get_tf_idf_sparse_matrix()\n",
    "        \n",
    "        return self.return_matrix\n",
    "    \n",
    "    def get_vocab(self):\n",
    "        \n",
    "        # Concatonate each document into a large string\n",
    "        all_docs = \" \".join(self.docs)\n",
    "        # Vocab\n",
    "        vocab = set(all_docs.split())\n",
    "        return vocab, len(vocab)\n",
    "    \n",
    "    def get_word_column_map(self):\n",
    "        \n",
    "        return {word:idx for word,idx in zip(self.vocab, range(self.vocab_length))}\n",
    "    \n",
    "    def get_tf_idf_sparse_matrix(self):\n",
    "        \n",
    "        tf = lil_matrix((self.doc_count, self.vocab_length))\n",
    "        idf = lil_matrix((self.doc_count, self.vocab_length))\n",
    "        \n",
    "        for doc_number,doc in enumerate(self.docs):\n",
    "            \n",
    "            words, counts = np.unique(doc.split(), return_counts=True)\n",
    "            \n",
    "            for word, count in zip(words, counts):\n",
    "                \n",
    "                tf[doc_number, self.word_column_map[word]] = count\n",
    "                \n",
    "                idf[doc_number, self.word_column_map[word]] = 1\n",
    "        \n",
    "#         print(idf.shape,\"...\", idf.sum(axis=1).shape)\n",
    "        # Number of documents each term occurs\n",
    "        log_num_docs_term_occurs = np.log( self.doc_count / (1 + idf.sum(axis=0)) ) \n",
    "        log_num_docs_term_occurs_vector = np.asarray(log_num_docs_term_occurs).reshape(-1)\n",
    "        return csr_matrix(tf.toarray() * log_num_docs_term_occurs_vector)\n",
    "        \n"
   ]
  },
  {
   "cell_type": "code",
   "execution_count": 132,
   "metadata": {},
   "outputs": [
    {
     "name": "stdout",
     "output_type": "stream",
     "text": [
      "Custom TF_IDF Score: 0.9445652173913044\n"
     ]
    }
   ],
   "source": [
    "# Use the class above to make TF_IDF Vectors\n",
    "tf_idf_from_scratch = Tf_Idf_Vectorizer().fit_transform(sms_df['text_processed'])\n",
    "\n",
    "# Split the Data into train and test sets\n",
    "X_train, X_test, y_train, y_test = train_test_split(tf_idf_from_scratch, y, test_size=0.33)\n",
    "\n",
    "# Multinomial Naive Bayes made from scratch - TF_IDF Vectors\n",
    "custom_classifier = MultinomialBayesianClassifier()\n",
    "custom_classifier.fit(X_train, y_train)\n",
    "preds = custom_classifier.predict(X_test)\n",
    "\n",
    "# Accuracy Score\n",
    "custom_classifier_score=0\n",
    "N ,_ = X_test.shape\n",
    "for i,j in zip(preds,y_test):\n",
    "    if i==j:\n",
    "        custom_classifier_score+=1\n",
    "print(f\"Custom TF_IDF Score: {custom_classifier_score/N}\")"
   ]
  },
  {
   "cell_type": "code",
   "execution_count": null,
   "metadata": {},
   "outputs": [],
   "source": []
  },
  {
   "cell_type": "code",
   "execution_count": null,
   "metadata": {},
   "outputs": [],
   "source": []
  }
 ],
 "metadata": {
  "kernelspec": {
   "display_name": "Python 3",
   "language": "python",
   "name": "python3"
  },
  "language_info": {
   "codemirror_mode": {
    "name": "ipython",
    "version": 3
   },
   "file_extension": ".py",
   "mimetype": "text/x-python",
   "name": "python",
   "nbconvert_exporter": "python",
   "pygments_lexer": "ipython3",
   "version": "3.8.5"
  }
 },
 "nbformat": 4,
 "nbformat_minor": 4
}
